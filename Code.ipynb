{
  "nbformat": 4,
  "nbformat_minor": 0,
  "metadata": {
    "kernelspec": {
      "display_name": "Python 3",
      "language": "python",
      "name": "python3"
    },
    "language_info": {
      "codemirror_mode": {
        "name": "ipython",
        "version": 3
      },
      "file_extension": ".py",
      "mimetype": "text/x-python",
      "name": "python",
      "nbconvert_exporter": "python",
      "pygments_lexer": "ipython3",
      "version": "3.7.3"
    },
    "colab": {
      "name": "Code (1).ipynb",
      "provenance": [],
      "collapsed_sections": [],
      "include_colab_link": true
    }
  },
  "cells": [
    {
      "cell_type": "markdown",
      "metadata": {
        "id": "view-in-github",
        "colab_type": "text"
      },
      "source": [
        "<a href=\"https://colab.research.google.com/github/aman-2k18/IDS_Project/blob/master/Code.ipynb\" target=\"_parent\"><img src=\"https://colab.research.google.com/assets/colab-badge.svg\" alt=\"Open In Colab\"/></a>"
      ]
    },
    {
      "cell_type": "markdown",
      "metadata": {
        "id": "Wub7laGVhNTI"
      },
      "source": [
        "# IDS Project\n",
        "Aman Khandelwal              18UCC038\n",
        "\n",
        "Rachit Dureja                18UCS037\n",
        "\n",
        "Kavish Jain                  18UCS039\n",
        "\n",
        "Ayush Talesra                18UCS038"
      ]
    },
    {
      "cell_type": "code",
      "metadata": {
        "id": "O6ryxfefhNTJ"
      },
      "source": [
        "import pandas as pd\n",
        "import numpy as np\n",
        "from sklearn.neighbors import KNeighborsClassifier\n",
        "import matplotlib.pyplot as plt\n",
        "import seaborn as sns\n",
        "from datetime import datetime\n",
        "from sklearn.impute import SimpleImputer\n",
        "from sklearn.preprocessing import StandardScaler\n",
        "from sklearn.model_selection import GridSearchCV\n",
        "from sklearn.metrics import classification_report, confusion_matrix"
      ],
      "execution_count": null,
      "outputs": []
    },
    {
      "cell_type": "code",
      "metadata": {
        "id": "OSCGlf5VhNTJ"
      },
      "source": [
        "data_set1 = pd.read_csv(\"https://raw.githubusercontent.com/Rachit1216/IDS_Project/master/datatest2.txt?token=AKQSPG5L6MZY2LCVATNIYS27YICUC\")\n",
        "data_set2 = pd.read_csv(\"https://raw.githubusercontent.com/Rachit1216/IDS_Project/master/datatest.txt?token=AKQSPG32X3GPJ6CJSPWLBS27YICT4\")\n",
        "training_set = pd.read_csv(\"https://raw.githubusercontent.com/Rachit1216/IDS_Project/master/datatraining.txt?token=AKQSPG2JS7BX57IKE2DE2627YICUI\")"
      ],
      "execution_count": null,
      "outputs": []
    },
    {
      "cell_type": "code",
      "metadata": {
        "colab": {
          "base_uri": "https://localhost:8080/",
          "height": 195
        },
        "id": "nA0aBKgPhNTK",
        "outputId": "f7f62aab-267d-44da-feda-31885c76b9de"
      },
      "source": [
        "data_set1.head()"
      ],
      "execution_count": null,
      "outputs": [
        {
          "output_type": "execute_result",
          "data": {
            "text/html": [
              "<div>\n",
              "<style scoped>\n",
              "    .dataframe tbody tr th:only-of-type {\n",
              "        vertical-align: middle;\n",
              "    }\n",
              "\n",
              "    .dataframe tbody tr th {\n",
              "        vertical-align: top;\n",
              "    }\n",
              "\n",
              "    .dataframe thead th {\n",
              "        text-align: right;\n",
              "    }\n",
              "</style>\n",
              "<table border=\"1\" class=\"dataframe\">\n",
              "  <thead>\n",
              "    <tr style=\"text-align: right;\">\n",
              "      <th></th>\n",
              "      <th>date</th>\n",
              "      <th>Temperature</th>\n",
              "      <th>Humidity</th>\n",
              "      <th>Light</th>\n",
              "      <th>CO2</th>\n",
              "      <th>HumidityRatio</th>\n",
              "      <th>Occupancy</th>\n",
              "    </tr>\n",
              "  </thead>\n",
              "  <tbody>\n",
              "    <tr>\n",
              "      <th>1</th>\n",
              "      <td>2015-02-11 14:48:00</td>\n",
              "      <td>21.7600</td>\n",
              "      <td>31.133333</td>\n",
              "      <td>437.333333</td>\n",
              "      <td>1029.666667</td>\n",
              "      <td>0.005021</td>\n",
              "      <td>1</td>\n",
              "    </tr>\n",
              "    <tr>\n",
              "      <th>2</th>\n",
              "      <td>2015-02-11 14:49:00</td>\n",
              "      <td>21.7900</td>\n",
              "      <td>31.000000</td>\n",
              "      <td>437.333333</td>\n",
              "      <td>1000.000000</td>\n",
              "      <td>0.005009</td>\n",
              "      <td>1</td>\n",
              "    </tr>\n",
              "    <tr>\n",
              "      <th>3</th>\n",
              "      <td>2015-02-11 14:50:00</td>\n",
              "      <td>21.7675</td>\n",
              "      <td>31.122500</td>\n",
              "      <td>434.000000</td>\n",
              "      <td>1003.750000</td>\n",
              "      <td>0.005022</td>\n",
              "      <td>1</td>\n",
              "    </tr>\n",
              "    <tr>\n",
              "      <th>4</th>\n",
              "      <td>2015-02-11 14:51:00</td>\n",
              "      <td>21.7675</td>\n",
              "      <td>31.122500</td>\n",
              "      <td>439.000000</td>\n",
              "      <td>1009.500000</td>\n",
              "      <td>0.005022</td>\n",
              "      <td>1</td>\n",
              "    </tr>\n",
              "    <tr>\n",
              "      <th>5</th>\n",
              "      <td>2015-02-11 14:51:59</td>\n",
              "      <td>21.7900</td>\n",
              "      <td>31.133333</td>\n",
              "      <td>437.333333</td>\n",
              "      <td>1005.666667</td>\n",
              "      <td>0.005030</td>\n",
              "      <td>1</td>\n",
              "    </tr>\n",
              "  </tbody>\n",
              "</table>\n",
              "</div>"
            ],
            "text/plain": [
              "                  date  Temperature  ...  HumidityRatio  Occupancy\n",
              "1  2015-02-11 14:48:00      21.7600  ...       0.005021          1\n",
              "2  2015-02-11 14:49:00      21.7900  ...       0.005009          1\n",
              "3  2015-02-11 14:50:00      21.7675  ...       0.005022          1\n",
              "4  2015-02-11 14:51:00      21.7675  ...       0.005022          1\n",
              "5  2015-02-11 14:51:59      21.7900  ...       0.005030          1\n",
              "\n",
              "[5 rows x 7 columns]"
            ]
          },
          "metadata": {
            "tags": []
          },
          "execution_count": 3
        }
      ]
    },
    {
      "cell_type": "code",
      "metadata": {
        "colab": {
          "base_uri": "https://localhost:8080/",
          "height": 195
        },
        "id": "xOJBVXDLhNTN",
        "outputId": "df343630-8fbe-46c3-a72f-c2efe20b8ec1"
      },
      "source": [
        "data_set1.tail()"
      ],
      "execution_count": null,
      "outputs": [
        {
          "output_type": "execute_result",
          "data": {
            "text/html": [
              "<div>\n",
              "<style scoped>\n",
              "    .dataframe tbody tr th:only-of-type {\n",
              "        vertical-align: middle;\n",
              "    }\n",
              "\n",
              "    .dataframe tbody tr th {\n",
              "        vertical-align: top;\n",
              "    }\n",
              "\n",
              "    .dataframe thead th {\n",
              "        text-align: right;\n",
              "    }\n",
              "</style>\n",
              "<table border=\"1\" class=\"dataframe\">\n",
              "  <thead>\n",
              "    <tr style=\"text-align: right;\">\n",
              "      <th></th>\n",
              "      <th>date</th>\n",
              "      <th>Temperature</th>\n",
              "      <th>Humidity</th>\n",
              "      <th>Light</th>\n",
              "      <th>CO2</th>\n",
              "      <th>HumidityRatio</th>\n",
              "      <th>Occupancy</th>\n",
              "    </tr>\n",
              "  </thead>\n",
              "  <tbody>\n",
              "    <tr>\n",
              "      <th>9748</th>\n",
              "      <td>2015-02-18 09:15:00</td>\n",
              "      <td>20.815</td>\n",
              "      <td>27.7175</td>\n",
              "      <td>429.75</td>\n",
              "      <td>1505.25</td>\n",
              "      <td>0.004213</td>\n",
              "      <td>1</td>\n",
              "    </tr>\n",
              "    <tr>\n",
              "      <th>9749</th>\n",
              "      <td>2015-02-18 09:16:00</td>\n",
              "      <td>20.865</td>\n",
              "      <td>27.7450</td>\n",
              "      <td>423.50</td>\n",
              "      <td>1514.50</td>\n",
              "      <td>0.004230</td>\n",
              "      <td>1</td>\n",
              "    </tr>\n",
              "    <tr>\n",
              "      <th>9750</th>\n",
              "      <td>2015-02-18 09:16:59</td>\n",
              "      <td>20.890</td>\n",
              "      <td>27.7450</td>\n",
              "      <td>423.50</td>\n",
              "      <td>1521.50</td>\n",
              "      <td>0.004237</td>\n",
              "      <td>1</td>\n",
              "    </tr>\n",
              "    <tr>\n",
              "      <th>9751</th>\n",
              "      <td>2015-02-18 09:17:59</td>\n",
              "      <td>20.890</td>\n",
              "      <td>28.0225</td>\n",
              "      <td>418.75</td>\n",
              "      <td>1632.00</td>\n",
              "      <td>0.004279</td>\n",
              "      <td>1</td>\n",
              "    </tr>\n",
              "    <tr>\n",
              "      <th>9752</th>\n",
              "      <td>2015-02-18 09:19:00</td>\n",
              "      <td>21.000</td>\n",
              "      <td>28.1000</td>\n",
              "      <td>409.00</td>\n",
              "      <td>1864.00</td>\n",
              "      <td>0.004321</td>\n",
              "      <td>1</td>\n",
              "    </tr>\n",
              "  </tbody>\n",
              "</table>\n",
              "</div>"
            ],
            "text/plain": [
              "                     date  Temperature  ...  HumidityRatio  Occupancy\n",
              "9748  2015-02-18 09:15:00       20.815  ...       0.004213          1\n",
              "9749  2015-02-18 09:16:00       20.865  ...       0.004230          1\n",
              "9750  2015-02-18 09:16:59       20.890  ...       0.004237          1\n",
              "9751  2015-02-18 09:17:59       20.890  ...       0.004279          1\n",
              "9752  2015-02-18 09:19:00       21.000  ...       0.004321          1\n",
              "\n",
              "[5 rows x 7 columns]"
            ]
          },
          "metadata": {
            "tags": []
          },
          "execution_count": 4
        }
      ]
    },
    {
      "cell_type": "code",
      "metadata": {
        "colab": {
          "base_uri": "https://localhost:8080/",
          "height": 195
        },
        "id": "GrUyzcRAhNTN",
        "outputId": "f170a095-d506-4f3a-dd4b-889d27bcb802"
      },
      "source": [
        "data_set2.head()"
      ],
      "execution_count": null,
      "outputs": [
        {
          "output_type": "execute_result",
          "data": {
            "text/html": [
              "<div>\n",
              "<style scoped>\n",
              "    .dataframe tbody tr th:only-of-type {\n",
              "        vertical-align: middle;\n",
              "    }\n",
              "\n",
              "    .dataframe tbody tr th {\n",
              "        vertical-align: top;\n",
              "    }\n",
              "\n",
              "    .dataframe thead th {\n",
              "        text-align: right;\n",
              "    }\n",
              "</style>\n",
              "<table border=\"1\" class=\"dataframe\">\n",
              "  <thead>\n",
              "    <tr style=\"text-align: right;\">\n",
              "      <th></th>\n",
              "      <th>date</th>\n",
              "      <th>Temperature</th>\n",
              "      <th>Humidity</th>\n",
              "      <th>Light</th>\n",
              "      <th>CO2</th>\n",
              "      <th>HumidityRatio</th>\n",
              "      <th>Occupancy</th>\n",
              "    </tr>\n",
              "  </thead>\n",
              "  <tbody>\n",
              "    <tr>\n",
              "      <th>140</th>\n",
              "      <td>2015-02-02 14:19:00</td>\n",
              "      <td>23.7000</td>\n",
              "      <td>26.272</td>\n",
              "      <td>585.200000</td>\n",
              "      <td>749.200000</td>\n",
              "      <td>0.004764</td>\n",
              "      <td>1</td>\n",
              "    </tr>\n",
              "    <tr>\n",
              "      <th>141</th>\n",
              "      <td>2015-02-02 14:19:59</td>\n",
              "      <td>23.7180</td>\n",
              "      <td>26.290</td>\n",
              "      <td>578.400000</td>\n",
              "      <td>760.400000</td>\n",
              "      <td>0.004773</td>\n",
              "      <td>1</td>\n",
              "    </tr>\n",
              "    <tr>\n",
              "      <th>142</th>\n",
              "      <td>2015-02-02 14:21:00</td>\n",
              "      <td>23.7300</td>\n",
              "      <td>26.230</td>\n",
              "      <td>572.666667</td>\n",
              "      <td>769.666667</td>\n",
              "      <td>0.004765</td>\n",
              "      <td>1</td>\n",
              "    </tr>\n",
              "    <tr>\n",
              "      <th>143</th>\n",
              "      <td>2015-02-02 14:22:00</td>\n",
              "      <td>23.7225</td>\n",
              "      <td>26.125</td>\n",
              "      <td>493.750000</td>\n",
              "      <td>774.750000</td>\n",
              "      <td>0.004744</td>\n",
              "      <td>1</td>\n",
              "    </tr>\n",
              "    <tr>\n",
              "      <th>144</th>\n",
              "      <td>2015-02-02 14:23:00</td>\n",
              "      <td>23.7540</td>\n",
              "      <td>26.200</td>\n",
              "      <td>488.600000</td>\n",
              "      <td>779.000000</td>\n",
              "      <td>0.004767</td>\n",
              "      <td>1</td>\n",
              "    </tr>\n",
              "  </tbody>\n",
              "</table>\n",
              "</div>"
            ],
            "text/plain": [
              "                    date  Temperature  ...  HumidityRatio  Occupancy\n",
              "140  2015-02-02 14:19:00      23.7000  ...       0.004764          1\n",
              "141  2015-02-02 14:19:59      23.7180  ...       0.004773          1\n",
              "142  2015-02-02 14:21:00      23.7300  ...       0.004765          1\n",
              "143  2015-02-02 14:22:00      23.7225  ...       0.004744          1\n",
              "144  2015-02-02 14:23:00      23.7540  ...       0.004767          1\n",
              "\n",
              "[5 rows x 7 columns]"
            ]
          },
          "metadata": {
            "tags": []
          },
          "execution_count": 5
        }
      ]
    },
    {
      "cell_type": "markdown",
      "metadata": {
        "id": "CEeWCIlBhNTN"
      },
      "source": [
        "As index is starting from 140 so the index has to be change to default."
      ]
    },
    {
      "cell_type": "code",
      "metadata": {
        "id": "O2xPzXtchNTN"
      },
      "source": [
        "data_set2.index = np.arange(1,len(data_set2)+1)"
      ],
      "execution_count": null,
      "outputs": []
    },
    {
      "cell_type": "code",
      "metadata": {
        "colab": {
          "base_uri": "https://localhost:8080/",
          "height": 195
        },
        "id": "BArQeafYhNTO",
        "outputId": "4f89df29-d00a-44d5-b129-8cdace28ba30"
      },
      "source": [
        "data_set2.head()"
      ],
      "execution_count": null,
      "outputs": [
        {
          "output_type": "execute_result",
          "data": {
            "text/html": [
              "<div>\n",
              "<style scoped>\n",
              "    .dataframe tbody tr th:only-of-type {\n",
              "        vertical-align: middle;\n",
              "    }\n",
              "\n",
              "    .dataframe tbody tr th {\n",
              "        vertical-align: top;\n",
              "    }\n",
              "\n",
              "    .dataframe thead th {\n",
              "        text-align: right;\n",
              "    }\n",
              "</style>\n",
              "<table border=\"1\" class=\"dataframe\">\n",
              "  <thead>\n",
              "    <tr style=\"text-align: right;\">\n",
              "      <th></th>\n",
              "      <th>date</th>\n",
              "      <th>Temperature</th>\n",
              "      <th>Humidity</th>\n",
              "      <th>Light</th>\n",
              "      <th>CO2</th>\n",
              "      <th>HumidityRatio</th>\n",
              "      <th>Occupancy</th>\n",
              "    </tr>\n",
              "  </thead>\n",
              "  <tbody>\n",
              "    <tr>\n",
              "      <th>1</th>\n",
              "      <td>2015-02-02 14:19:00</td>\n",
              "      <td>23.7000</td>\n",
              "      <td>26.272</td>\n",
              "      <td>585.200000</td>\n",
              "      <td>749.200000</td>\n",
              "      <td>0.004764</td>\n",
              "      <td>1</td>\n",
              "    </tr>\n",
              "    <tr>\n",
              "      <th>2</th>\n",
              "      <td>2015-02-02 14:19:59</td>\n",
              "      <td>23.7180</td>\n",
              "      <td>26.290</td>\n",
              "      <td>578.400000</td>\n",
              "      <td>760.400000</td>\n",
              "      <td>0.004773</td>\n",
              "      <td>1</td>\n",
              "    </tr>\n",
              "    <tr>\n",
              "      <th>3</th>\n",
              "      <td>2015-02-02 14:21:00</td>\n",
              "      <td>23.7300</td>\n",
              "      <td>26.230</td>\n",
              "      <td>572.666667</td>\n",
              "      <td>769.666667</td>\n",
              "      <td>0.004765</td>\n",
              "      <td>1</td>\n",
              "    </tr>\n",
              "    <tr>\n",
              "      <th>4</th>\n",
              "      <td>2015-02-02 14:22:00</td>\n",
              "      <td>23.7225</td>\n",
              "      <td>26.125</td>\n",
              "      <td>493.750000</td>\n",
              "      <td>774.750000</td>\n",
              "      <td>0.004744</td>\n",
              "      <td>1</td>\n",
              "    </tr>\n",
              "    <tr>\n",
              "      <th>5</th>\n",
              "      <td>2015-02-02 14:23:00</td>\n",
              "      <td>23.7540</td>\n",
              "      <td>26.200</td>\n",
              "      <td>488.600000</td>\n",
              "      <td>779.000000</td>\n",
              "      <td>0.004767</td>\n",
              "      <td>1</td>\n",
              "    </tr>\n",
              "  </tbody>\n",
              "</table>\n",
              "</div>"
            ],
            "text/plain": [
              "                  date  Temperature  ...  HumidityRatio  Occupancy\n",
              "1  2015-02-02 14:19:00      23.7000  ...       0.004764          1\n",
              "2  2015-02-02 14:19:59      23.7180  ...       0.004773          1\n",
              "3  2015-02-02 14:21:00      23.7300  ...       0.004765          1\n",
              "4  2015-02-02 14:22:00      23.7225  ...       0.004744          1\n",
              "5  2015-02-02 14:23:00      23.7540  ...       0.004767          1\n",
              "\n",
              "[5 rows x 7 columns]"
            ]
          },
          "metadata": {
            "tags": []
          },
          "execution_count": 7
        }
      ]
    },
    {
      "cell_type": "code",
      "metadata": {
        "colab": {
          "base_uri": "https://localhost:8080/",
          "height": 195
        },
        "id": "50_TVZFohNTO",
        "outputId": "221a3cb3-392e-4757-babf-815082c7c41d"
      },
      "source": [
        "data_set2.tail()"
      ],
      "execution_count": null,
      "outputs": [
        {
          "output_type": "execute_result",
          "data": {
            "text/html": [
              "<div>\n",
              "<style scoped>\n",
              "    .dataframe tbody tr th:only-of-type {\n",
              "        vertical-align: middle;\n",
              "    }\n",
              "\n",
              "    .dataframe tbody tr th {\n",
              "        vertical-align: top;\n",
              "    }\n",
              "\n",
              "    .dataframe thead th {\n",
              "        text-align: right;\n",
              "    }\n",
              "</style>\n",
              "<table border=\"1\" class=\"dataframe\">\n",
              "  <thead>\n",
              "    <tr style=\"text-align: right;\">\n",
              "      <th></th>\n",
              "      <th>date</th>\n",
              "      <th>Temperature</th>\n",
              "      <th>Humidity</th>\n",
              "      <th>Light</th>\n",
              "      <th>CO2</th>\n",
              "      <th>HumidityRatio</th>\n",
              "      <th>Occupancy</th>\n",
              "    </tr>\n",
              "  </thead>\n",
              "  <tbody>\n",
              "    <tr>\n",
              "      <th>2661</th>\n",
              "      <td>2015-02-04 10:38:59</td>\n",
              "      <td>24.290000</td>\n",
              "      <td>25.700000</td>\n",
              "      <td>808.0</td>\n",
              "      <td>1150.25</td>\n",
              "      <td>0.004829</td>\n",
              "      <td>1</td>\n",
              "    </tr>\n",
              "    <tr>\n",
              "      <th>2662</th>\n",
              "      <td>2015-02-04 10:40:00</td>\n",
              "      <td>24.330000</td>\n",
              "      <td>25.736000</td>\n",
              "      <td>809.8</td>\n",
              "      <td>1129.20</td>\n",
              "      <td>0.004848</td>\n",
              "      <td>1</td>\n",
              "    </tr>\n",
              "    <tr>\n",
              "      <th>2663</th>\n",
              "      <td>2015-02-04 10:40:59</td>\n",
              "      <td>24.330000</td>\n",
              "      <td>25.700000</td>\n",
              "      <td>817.0</td>\n",
              "      <td>1125.80</td>\n",
              "      <td>0.004841</td>\n",
              "      <td>1</td>\n",
              "    </tr>\n",
              "    <tr>\n",
              "      <th>2664</th>\n",
              "      <td>2015-02-04 10:41:59</td>\n",
              "      <td>24.356667</td>\n",
              "      <td>25.700000</td>\n",
              "      <td>813.0</td>\n",
              "      <td>1123.00</td>\n",
              "      <td>0.004849</td>\n",
              "      <td>1</td>\n",
              "    </tr>\n",
              "    <tr>\n",
              "      <th>2665</th>\n",
              "      <td>2015-02-04 10:43:00</td>\n",
              "      <td>24.408333</td>\n",
              "      <td>25.681667</td>\n",
              "      <td>798.0</td>\n",
              "      <td>1124.00</td>\n",
              "      <td>0.004860</td>\n",
              "      <td>1</td>\n",
              "    </tr>\n",
              "  </tbody>\n",
              "</table>\n",
              "</div>"
            ],
            "text/plain": [
              "                     date  Temperature  ...  HumidityRatio  Occupancy\n",
              "2661  2015-02-04 10:38:59    24.290000  ...       0.004829          1\n",
              "2662  2015-02-04 10:40:00    24.330000  ...       0.004848          1\n",
              "2663  2015-02-04 10:40:59    24.330000  ...       0.004841          1\n",
              "2664  2015-02-04 10:41:59    24.356667  ...       0.004849          1\n",
              "2665  2015-02-04 10:43:00    24.408333  ...       0.004860          1\n",
              "\n",
              "[5 rows x 7 columns]"
            ]
          },
          "metadata": {
            "tags": []
          },
          "execution_count": 8
        }
      ]
    },
    {
      "cell_type": "code",
      "metadata": {
        "colab": {
          "base_uri": "https://localhost:8080/",
          "height": 195
        },
        "id": "P9oKVdgPhNTO",
        "outputId": "03b53909-5919-4414-a6e9-e7d2edb123d7"
      },
      "source": [
        "training_set.head()"
      ],
      "execution_count": null,
      "outputs": [
        {
          "output_type": "execute_result",
          "data": {
            "text/html": [
              "<div>\n",
              "<style scoped>\n",
              "    .dataframe tbody tr th:only-of-type {\n",
              "        vertical-align: middle;\n",
              "    }\n",
              "\n",
              "    .dataframe tbody tr th {\n",
              "        vertical-align: top;\n",
              "    }\n",
              "\n",
              "    .dataframe thead th {\n",
              "        text-align: right;\n",
              "    }\n",
              "</style>\n",
              "<table border=\"1\" class=\"dataframe\">\n",
              "  <thead>\n",
              "    <tr style=\"text-align: right;\">\n",
              "      <th></th>\n",
              "      <th>date</th>\n",
              "      <th>Temperature</th>\n",
              "      <th>Humidity</th>\n",
              "      <th>Light</th>\n",
              "      <th>CO2</th>\n",
              "      <th>HumidityRatio</th>\n",
              "      <th>Occupancy</th>\n",
              "    </tr>\n",
              "  </thead>\n",
              "  <tbody>\n",
              "    <tr>\n",
              "      <th>1</th>\n",
              "      <td>2015-02-04 17:51:00</td>\n",
              "      <td>23.18</td>\n",
              "      <td>27.2720</td>\n",
              "      <td>426.0</td>\n",
              "      <td>721.25</td>\n",
              "      <td>0.004793</td>\n",
              "      <td>1</td>\n",
              "    </tr>\n",
              "    <tr>\n",
              "      <th>2</th>\n",
              "      <td>2015-02-04 17:51:59</td>\n",
              "      <td>23.15</td>\n",
              "      <td>27.2675</td>\n",
              "      <td>429.5</td>\n",
              "      <td>714.00</td>\n",
              "      <td>0.004783</td>\n",
              "      <td>1</td>\n",
              "    </tr>\n",
              "    <tr>\n",
              "      <th>3</th>\n",
              "      <td>2015-02-04 17:53:00</td>\n",
              "      <td>23.15</td>\n",
              "      <td>27.2450</td>\n",
              "      <td>426.0</td>\n",
              "      <td>713.50</td>\n",
              "      <td>0.004779</td>\n",
              "      <td>1</td>\n",
              "    </tr>\n",
              "    <tr>\n",
              "      <th>4</th>\n",
              "      <td>2015-02-04 17:54:00</td>\n",
              "      <td>23.15</td>\n",
              "      <td>27.2000</td>\n",
              "      <td>426.0</td>\n",
              "      <td>708.25</td>\n",
              "      <td>0.004772</td>\n",
              "      <td>1</td>\n",
              "    </tr>\n",
              "    <tr>\n",
              "      <th>5</th>\n",
              "      <td>2015-02-04 17:55:00</td>\n",
              "      <td>23.10</td>\n",
              "      <td>27.2000</td>\n",
              "      <td>426.0</td>\n",
              "      <td>704.50</td>\n",
              "      <td>0.004757</td>\n",
              "      <td>1</td>\n",
              "    </tr>\n",
              "  </tbody>\n",
              "</table>\n",
              "</div>"
            ],
            "text/plain": [
              "                  date  Temperature  Humidity  ...     CO2  HumidityRatio  Occupancy\n",
              "1  2015-02-04 17:51:00        23.18   27.2720  ...  721.25       0.004793          1\n",
              "2  2015-02-04 17:51:59        23.15   27.2675  ...  714.00       0.004783          1\n",
              "3  2015-02-04 17:53:00        23.15   27.2450  ...  713.50       0.004779          1\n",
              "4  2015-02-04 17:54:00        23.15   27.2000  ...  708.25       0.004772          1\n",
              "5  2015-02-04 17:55:00        23.10   27.2000  ...  704.50       0.004757          1\n",
              "\n",
              "[5 rows x 7 columns]"
            ]
          },
          "metadata": {
            "tags": []
          },
          "execution_count": 9
        }
      ]
    },
    {
      "cell_type": "code",
      "metadata": {
        "colab": {
          "base_uri": "https://localhost:8080/",
          "height": 195
        },
        "id": "0iZYPghnhNTO",
        "outputId": "027e19f8-3a3a-4522-cacf-b2d0c762eb2e"
      },
      "source": [
        "training_set.tail()"
      ],
      "execution_count": null,
      "outputs": [
        {
          "output_type": "execute_result",
          "data": {
            "text/html": [
              "<div>\n",
              "<style scoped>\n",
              "    .dataframe tbody tr th:only-of-type {\n",
              "        vertical-align: middle;\n",
              "    }\n",
              "\n",
              "    .dataframe tbody tr th {\n",
              "        vertical-align: top;\n",
              "    }\n",
              "\n",
              "    .dataframe thead th {\n",
              "        text-align: right;\n",
              "    }\n",
              "</style>\n",
              "<table border=\"1\" class=\"dataframe\">\n",
              "  <thead>\n",
              "    <tr style=\"text-align: right;\">\n",
              "      <th></th>\n",
              "      <th>date</th>\n",
              "      <th>Temperature</th>\n",
              "      <th>Humidity</th>\n",
              "      <th>Light</th>\n",
              "      <th>CO2</th>\n",
              "      <th>HumidityRatio</th>\n",
              "      <th>Occupancy</th>\n",
              "    </tr>\n",
              "  </thead>\n",
              "  <tbody>\n",
              "    <tr>\n",
              "      <th>8139</th>\n",
              "      <td>2015-02-10 09:29:00</td>\n",
              "      <td>21.05</td>\n",
              "      <td>36.0975</td>\n",
              "      <td>433.0</td>\n",
              "      <td>787.250000</td>\n",
              "      <td>0.005579</td>\n",
              "      <td>1</td>\n",
              "    </tr>\n",
              "    <tr>\n",
              "      <th>8140</th>\n",
              "      <td>2015-02-10 09:29:59</td>\n",
              "      <td>21.05</td>\n",
              "      <td>35.9950</td>\n",
              "      <td>433.0</td>\n",
              "      <td>789.500000</td>\n",
              "      <td>0.005563</td>\n",
              "      <td>1</td>\n",
              "    </tr>\n",
              "    <tr>\n",
              "      <th>8141</th>\n",
              "      <td>2015-02-10 09:30:59</td>\n",
              "      <td>21.10</td>\n",
              "      <td>36.0950</td>\n",
              "      <td>433.0</td>\n",
              "      <td>798.500000</td>\n",
              "      <td>0.005596</td>\n",
              "      <td>1</td>\n",
              "    </tr>\n",
              "    <tr>\n",
              "      <th>8142</th>\n",
              "      <td>2015-02-10 09:32:00</td>\n",
              "      <td>21.10</td>\n",
              "      <td>36.2600</td>\n",
              "      <td>433.0</td>\n",
              "      <td>820.333333</td>\n",
              "      <td>0.005621</td>\n",
              "      <td>1</td>\n",
              "    </tr>\n",
              "    <tr>\n",
              "      <th>8143</th>\n",
              "      <td>2015-02-10 09:33:00</td>\n",
              "      <td>21.10</td>\n",
              "      <td>36.2000</td>\n",
              "      <td>447.0</td>\n",
              "      <td>821.000000</td>\n",
              "      <td>0.005612</td>\n",
              "      <td>1</td>\n",
              "    </tr>\n",
              "  </tbody>\n",
              "</table>\n",
              "</div>"
            ],
            "text/plain": [
              "                     date  Temperature  ...  HumidityRatio  Occupancy\n",
              "8139  2015-02-10 09:29:00        21.05  ...       0.005579          1\n",
              "8140  2015-02-10 09:29:59        21.05  ...       0.005563          1\n",
              "8141  2015-02-10 09:30:59        21.10  ...       0.005596          1\n",
              "8142  2015-02-10 09:32:00        21.10  ...       0.005621          1\n",
              "8143  2015-02-10 09:33:00        21.10  ...       0.005612          1\n",
              "\n",
              "[5 rows x 7 columns]"
            ]
          },
          "metadata": {
            "tags": []
          },
          "execution_count": 10
        }
      ]
    },
    {
      "cell_type": "markdown",
      "metadata": {
        "id": "beOpSD4phNTP"
      },
      "source": [
        "This segment contains info of every data set..columns and type of each column(attribute) and the number of instances for each attribute"
      ]
    },
    {
      "cell_type": "markdown",
      "metadata": {
        "id": "UsyzE7xphNTP"
      },
      "source": [
        "Check is there any missing value in any attribute."
      ]
    },
    {
      "cell_type": "code",
      "metadata": {
        "colab": {
          "base_uri": "https://localhost:8080/"
        },
        "id": "I7CvLYlzhNTP",
        "outputId": "b2eed8c6-984f-4a9c-dc19-158ab0a13add"
      },
      "source": [
        "data_set1.isnull().sum()"
      ],
      "execution_count": null,
      "outputs": [
        {
          "output_type": "execute_result",
          "data": {
            "text/plain": [
              "date             0\n",
              "Temperature      0\n",
              "Humidity         0\n",
              "Light            0\n",
              "CO2              0\n",
              "HumidityRatio    0\n",
              "Occupancy        0\n",
              "dtype: int64"
            ]
          },
          "metadata": {
            "tags": []
          },
          "execution_count": 11
        }
      ]
    },
    {
      "cell_type": "code",
      "metadata": {
        "colab": {
          "base_uri": "https://localhost:8080/"
        },
        "id": "vTOBYDbrhNTQ",
        "outputId": "583af71c-e53a-433b-8ceb-d5ccb19ad744"
      },
      "source": [
        "data_set1.isnull().sum()"
      ],
      "execution_count": null,
      "outputs": [
        {
          "output_type": "execute_result",
          "data": {
            "text/plain": [
              "date             0\n",
              "Temperature      0\n",
              "Humidity         0\n",
              "Light            0\n",
              "CO2              0\n",
              "HumidityRatio    0\n",
              "Occupancy        0\n",
              "dtype: int64"
            ]
          },
          "metadata": {
            "tags": []
          },
          "execution_count": 12
        }
      ]
    },
    {
      "cell_type": "code",
      "metadata": {
        "colab": {
          "base_uri": "https://localhost:8080/"
        },
        "id": "_E8mixu8hNTQ",
        "outputId": "6deecb8f-3d1e-4d45-e27c-a48e42b52d34"
      },
      "source": [
        "training_set.isnull().sum()"
      ],
      "execution_count": null,
      "outputs": [
        {
          "output_type": "execute_result",
          "data": {
            "text/plain": [
              "date             0\n",
              "Temperature      0\n",
              "Humidity         0\n",
              "Light            0\n",
              "CO2              0\n",
              "HumidityRatio    0\n",
              "Occupancy        0\n",
              "dtype: int64"
            ]
          },
          "metadata": {
            "tags": []
          },
          "execution_count": 13
        }
      ]
    },
    {
      "cell_type": "markdown",
      "metadata": {
        "id": "ufWSdAVYhNTR"
      },
      "source": [
        "As there is no null values..so we dont have to remove any instance(row)."
      ]
    },
    {
      "cell_type": "markdown",
      "metadata": {
        "id": "OmWd73XGhNTR"
      },
      "source": [
        "no. of columns,there data type,no. of instances(row),no. of attributes(column)"
      ]
    },
    {
      "cell_type": "code",
      "metadata": {
        "colab": {
          "base_uri": "https://localhost:8080/"
        },
        "id": "XLa-QsaChNTR",
        "outputId": "58d1104f-cb31-4f49-fed5-1b121cb07da4"
      },
      "source": [
        "data_set1.info()"
      ],
      "execution_count": null,
      "outputs": [
        {
          "output_type": "stream",
          "text": [
            "<class 'pandas.core.frame.DataFrame'>\n",
            "Int64Index: 9752 entries, 1 to 9752\n",
            "Data columns (total 7 columns):\n",
            " #   Column         Non-Null Count  Dtype  \n",
            "---  ------         --------------  -----  \n",
            " 0   date           9752 non-null   object \n",
            " 1   Temperature    9752 non-null   float64\n",
            " 2   Humidity       9752 non-null   float64\n",
            " 3   Light          9752 non-null   float64\n",
            " 4   CO2            9752 non-null   float64\n",
            " 5   HumidityRatio  9752 non-null   float64\n",
            " 6   Occupancy      9752 non-null   int64  \n",
            "dtypes: float64(5), int64(1), object(1)\n",
            "memory usage: 609.5+ KB\n"
          ],
          "name": "stdout"
        }
      ]
    },
    {
      "cell_type": "code",
      "metadata": {
        "colab": {
          "base_uri": "https://localhost:8080/"
        },
        "id": "hxuMUe3vhNTR",
        "outputId": "043265b4-99f9-41c7-a274-0e9e056f8b21"
      },
      "source": [
        "data_set2.info()"
      ],
      "execution_count": null,
      "outputs": [
        {
          "output_type": "stream",
          "text": [
            "<class 'pandas.core.frame.DataFrame'>\n",
            "Int64Index: 2665 entries, 1 to 2665\n",
            "Data columns (total 7 columns):\n",
            " #   Column         Non-Null Count  Dtype  \n",
            "---  ------         --------------  -----  \n",
            " 0   date           2665 non-null   object \n",
            " 1   Temperature    2665 non-null   float64\n",
            " 2   Humidity       2665 non-null   float64\n",
            " 3   Light          2665 non-null   float64\n",
            " 4   CO2            2665 non-null   float64\n",
            " 5   HumidityRatio  2665 non-null   float64\n",
            " 6   Occupancy      2665 non-null   int64  \n",
            "dtypes: float64(5), int64(1), object(1)\n",
            "memory usage: 166.6+ KB\n"
          ],
          "name": "stdout"
        }
      ]
    },
    {
      "cell_type": "code",
      "metadata": {
        "colab": {
          "base_uri": "https://localhost:8080/"
        },
        "id": "_1astImnhNTS",
        "outputId": "da6cd981-f7b3-4d2f-e2e6-8417863a05f6"
      },
      "source": [
        "training_set.info()"
      ],
      "execution_count": null,
      "outputs": [
        {
          "output_type": "stream",
          "text": [
            "<class 'pandas.core.frame.DataFrame'>\n",
            "Int64Index: 8143 entries, 1 to 8143\n",
            "Data columns (total 7 columns):\n",
            " #   Column         Non-Null Count  Dtype  \n",
            "---  ------         --------------  -----  \n",
            " 0   date           8143 non-null   object \n",
            " 1   Temperature    8143 non-null   float64\n",
            " 2   Humidity       8143 non-null   float64\n",
            " 3   Light          8143 non-null   float64\n",
            " 4   CO2            8143 non-null   float64\n",
            " 5   HumidityRatio  8143 non-null   float64\n",
            " 6   Occupancy      8143 non-null   int64  \n",
            "dtypes: float64(5), int64(1), object(1)\n",
            "memory usage: 508.9+ KB\n"
          ],
          "name": "stdout"
        }
      ]
    },
    {
      "cell_type": "markdown",
      "metadata": {
        "id": "QoUARWs9hNTS"
      },
      "source": [
        "Describe"
      ]
    },
    {
      "cell_type": "code",
      "metadata": {
        "colab": {
          "base_uri": "https://localhost:8080/",
          "height": 284
        },
        "id": "WwZMPpCOhNTS",
        "outputId": "af953012-3aa8-4a43-ab59-58b2337d3855"
      },
      "source": [
        "data_set1.describe()"
      ],
      "execution_count": null,
      "outputs": [
        {
          "output_type": "execute_result",
          "data": {
            "text/html": [
              "<div>\n",
              "<style scoped>\n",
              "    .dataframe tbody tr th:only-of-type {\n",
              "        vertical-align: middle;\n",
              "    }\n",
              "\n",
              "    .dataframe tbody tr th {\n",
              "        vertical-align: top;\n",
              "    }\n",
              "\n",
              "    .dataframe thead th {\n",
              "        text-align: right;\n",
              "    }\n",
              "</style>\n",
              "<table border=\"1\" class=\"dataframe\">\n",
              "  <thead>\n",
              "    <tr style=\"text-align: right;\">\n",
              "      <th></th>\n",
              "      <th>Temperature</th>\n",
              "      <th>Humidity</th>\n",
              "      <th>Light</th>\n",
              "      <th>CO2</th>\n",
              "      <th>HumidityRatio</th>\n",
              "      <th>Occupancy</th>\n",
              "    </tr>\n",
              "  </thead>\n",
              "  <tbody>\n",
              "    <tr>\n",
              "      <th>count</th>\n",
              "      <td>9752.000000</td>\n",
              "      <td>9752.000000</td>\n",
              "      <td>9752.000000</td>\n",
              "      <td>9752.000000</td>\n",
              "      <td>9752.000000</td>\n",
              "      <td>9752.000000</td>\n",
              "    </tr>\n",
              "    <tr>\n",
              "      <th>mean</th>\n",
              "      <td>21.001768</td>\n",
              "      <td>29.891910</td>\n",
              "      <td>123.067930</td>\n",
              "      <td>753.224832</td>\n",
              "      <td>0.004589</td>\n",
              "      <td>0.210111</td>\n",
              "    </tr>\n",
              "    <tr>\n",
              "      <th>std</th>\n",
              "      <td>1.020693</td>\n",
              "      <td>3.952844</td>\n",
              "      <td>208.221275</td>\n",
              "      <td>297.096114</td>\n",
              "      <td>0.000531</td>\n",
              "      <td>0.407408</td>\n",
              "    </tr>\n",
              "    <tr>\n",
              "      <th>min</th>\n",
              "      <td>19.500000</td>\n",
              "      <td>21.865000</td>\n",
              "      <td>0.000000</td>\n",
              "      <td>484.666667</td>\n",
              "      <td>0.003275</td>\n",
              "      <td>0.000000</td>\n",
              "    </tr>\n",
              "    <tr>\n",
              "      <th>25%</th>\n",
              "      <td>20.290000</td>\n",
              "      <td>26.642083</td>\n",
              "      <td>0.000000</td>\n",
              "      <td>542.312500</td>\n",
              "      <td>0.004196</td>\n",
              "      <td>0.000000</td>\n",
              "    </tr>\n",
              "    <tr>\n",
              "      <th>50%</th>\n",
              "      <td>20.790000</td>\n",
              "      <td>30.200000</td>\n",
              "      <td>0.000000</td>\n",
              "      <td>639.000000</td>\n",
              "      <td>0.004593</td>\n",
              "      <td>0.000000</td>\n",
              "    </tr>\n",
              "    <tr>\n",
              "      <th>75%</th>\n",
              "      <td>21.533333</td>\n",
              "      <td>32.700000</td>\n",
              "      <td>208.250000</td>\n",
              "      <td>831.125000</td>\n",
              "      <td>0.004998</td>\n",
              "      <td>0.000000</td>\n",
              "    </tr>\n",
              "    <tr>\n",
              "      <th>max</th>\n",
              "      <td>24.390000</td>\n",
              "      <td>39.500000</td>\n",
              "      <td>1581.000000</td>\n",
              "      <td>2076.500000</td>\n",
              "      <td>0.005769</td>\n",
              "      <td>1.000000</td>\n",
              "    </tr>\n",
              "  </tbody>\n",
              "</table>\n",
              "</div>"
            ],
            "text/plain": [
              "       Temperature     Humidity  ...  HumidityRatio    Occupancy\n",
              "count  9752.000000  9752.000000  ...    9752.000000  9752.000000\n",
              "mean     21.001768    29.891910  ...       0.004589     0.210111\n",
              "std       1.020693     3.952844  ...       0.000531     0.407408\n",
              "min      19.500000    21.865000  ...       0.003275     0.000000\n",
              "25%      20.290000    26.642083  ...       0.004196     0.000000\n",
              "50%      20.790000    30.200000  ...       0.004593     0.000000\n",
              "75%      21.533333    32.700000  ...       0.004998     0.000000\n",
              "max      24.390000    39.500000  ...       0.005769     1.000000\n",
              "\n",
              "[8 rows x 6 columns]"
            ]
          },
          "metadata": {
            "tags": []
          },
          "execution_count": 17
        }
      ]
    },
    {
      "cell_type": "code",
      "metadata": {
        "colab": {
          "base_uri": "https://localhost:8080/",
          "height": 284
        },
        "id": "ygvMS9NQhNTS",
        "outputId": "6a295b99-450d-49fe-f46c-229186932aad"
      },
      "source": [
        "data_set2.describe()"
      ],
      "execution_count": null,
      "outputs": [
        {
          "output_type": "execute_result",
          "data": {
            "text/html": [
              "<div>\n",
              "<style scoped>\n",
              "    .dataframe tbody tr th:only-of-type {\n",
              "        vertical-align: middle;\n",
              "    }\n",
              "\n",
              "    .dataframe tbody tr th {\n",
              "        vertical-align: top;\n",
              "    }\n",
              "\n",
              "    .dataframe thead th {\n",
              "        text-align: right;\n",
              "    }\n",
              "</style>\n",
              "<table border=\"1\" class=\"dataframe\">\n",
              "  <thead>\n",
              "    <tr style=\"text-align: right;\">\n",
              "      <th></th>\n",
              "      <th>Temperature</th>\n",
              "      <th>Humidity</th>\n",
              "      <th>Light</th>\n",
              "      <th>CO2</th>\n",
              "      <th>HumidityRatio</th>\n",
              "      <th>Occupancy</th>\n",
              "    </tr>\n",
              "  </thead>\n",
              "  <tbody>\n",
              "    <tr>\n",
              "      <th>count</th>\n",
              "      <td>2665.000000</td>\n",
              "      <td>2665.000000</td>\n",
              "      <td>2665.000000</td>\n",
              "      <td>2665.000000</td>\n",
              "      <td>2665.000000</td>\n",
              "      <td>2665.000000</td>\n",
              "    </tr>\n",
              "    <tr>\n",
              "      <th>mean</th>\n",
              "      <td>21.433876</td>\n",
              "      <td>25.353937</td>\n",
              "      <td>193.227556</td>\n",
              "      <td>717.906470</td>\n",
              "      <td>0.004027</td>\n",
              "      <td>0.364728</td>\n",
              "    </tr>\n",
              "    <tr>\n",
              "      <th>std</th>\n",
              "      <td>1.028024</td>\n",
              "      <td>2.436842</td>\n",
              "      <td>250.210906</td>\n",
              "      <td>292.681718</td>\n",
              "      <td>0.000611</td>\n",
              "      <td>0.481444</td>\n",
              "    </tr>\n",
              "    <tr>\n",
              "      <th>min</th>\n",
              "      <td>20.200000</td>\n",
              "      <td>22.100000</td>\n",
              "      <td>0.000000</td>\n",
              "      <td>427.500000</td>\n",
              "      <td>0.003303</td>\n",
              "      <td>0.000000</td>\n",
              "    </tr>\n",
              "    <tr>\n",
              "      <th>25%</th>\n",
              "      <td>20.650000</td>\n",
              "      <td>23.260000</td>\n",
              "      <td>0.000000</td>\n",
              "      <td>466.000000</td>\n",
              "      <td>0.003529</td>\n",
              "      <td>0.000000</td>\n",
              "    </tr>\n",
              "    <tr>\n",
              "      <th>50%</th>\n",
              "      <td>20.890000</td>\n",
              "      <td>25.000000</td>\n",
              "      <td>0.000000</td>\n",
              "      <td>580.500000</td>\n",
              "      <td>0.003815</td>\n",
              "      <td>0.000000</td>\n",
              "    </tr>\n",
              "    <tr>\n",
              "      <th>75%</th>\n",
              "      <td>22.356667</td>\n",
              "      <td>26.856667</td>\n",
              "      <td>442.500000</td>\n",
              "      <td>956.333333</td>\n",
              "      <td>0.004532</td>\n",
              "      <td>1.000000</td>\n",
              "    </tr>\n",
              "    <tr>\n",
              "      <th>max</th>\n",
              "      <td>24.408333</td>\n",
              "      <td>31.472500</td>\n",
              "      <td>1697.250000</td>\n",
              "      <td>1402.250000</td>\n",
              "      <td>0.005378</td>\n",
              "      <td>1.000000</td>\n",
              "    </tr>\n",
              "  </tbody>\n",
              "</table>\n",
              "</div>"
            ],
            "text/plain": [
              "       Temperature     Humidity  ...  HumidityRatio    Occupancy\n",
              "count  2665.000000  2665.000000  ...    2665.000000  2665.000000\n",
              "mean     21.433876    25.353937  ...       0.004027     0.364728\n",
              "std       1.028024     2.436842  ...       0.000611     0.481444\n",
              "min      20.200000    22.100000  ...       0.003303     0.000000\n",
              "25%      20.650000    23.260000  ...       0.003529     0.000000\n",
              "50%      20.890000    25.000000  ...       0.003815     0.000000\n",
              "75%      22.356667    26.856667  ...       0.004532     1.000000\n",
              "max      24.408333    31.472500  ...       0.005378     1.000000\n",
              "\n",
              "[8 rows x 6 columns]"
            ]
          },
          "metadata": {
            "tags": []
          },
          "execution_count": 18
        }
      ]
    },
    {
      "cell_type": "code",
      "metadata": {
        "colab": {
          "base_uri": "https://localhost:8080/",
          "height": 284
        },
        "id": "LD3vXriQhNTS",
        "outputId": "7537f3ca-e172-42a3-8ed6-74b78d48f562"
      },
      "source": [
        "training_set.describe()"
      ],
      "execution_count": null,
      "outputs": [
        {
          "output_type": "execute_result",
          "data": {
            "text/html": [
              "<div>\n",
              "<style scoped>\n",
              "    .dataframe tbody tr th:only-of-type {\n",
              "        vertical-align: middle;\n",
              "    }\n",
              "\n",
              "    .dataframe tbody tr th {\n",
              "        vertical-align: top;\n",
              "    }\n",
              "\n",
              "    .dataframe thead th {\n",
              "        text-align: right;\n",
              "    }\n",
              "</style>\n",
              "<table border=\"1\" class=\"dataframe\">\n",
              "  <thead>\n",
              "    <tr style=\"text-align: right;\">\n",
              "      <th></th>\n",
              "      <th>Temperature</th>\n",
              "      <th>Humidity</th>\n",
              "      <th>Light</th>\n",
              "      <th>CO2</th>\n",
              "      <th>HumidityRatio</th>\n",
              "      <th>Occupancy</th>\n",
              "    </tr>\n",
              "  </thead>\n",
              "  <tbody>\n",
              "    <tr>\n",
              "      <th>count</th>\n",
              "      <td>8143.000000</td>\n",
              "      <td>8143.000000</td>\n",
              "      <td>8143.000000</td>\n",
              "      <td>8143.000000</td>\n",
              "      <td>8143.000000</td>\n",
              "      <td>8143.000000</td>\n",
              "    </tr>\n",
              "    <tr>\n",
              "      <th>mean</th>\n",
              "      <td>20.619084</td>\n",
              "      <td>25.731507</td>\n",
              "      <td>119.519375</td>\n",
              "      <td>606.546243</td>\n",
              "      <td>0.003863</td>\n",
              "      <td>0.212330</td>\n",
              "    </tr>\n",
              "    <tr>\n",
              "      <th>std</th>\n",
              "      <td>1.016916</td>\n",
              "      <td>5.531211</td>\n",
              "      <td>194.755805</td>\n",
              "      <td>314.320877</td>\n",
              "      <td>0.000852</td>\n",
              "      <td>0.408982</td>\n",
              "    </tr>\n",
              "    <tr>\n",
              "      <th>min</th>\n",
              "      <td>19.000000</td>\n",
              "      <td>16.745000</td>\n",
              "      <td>0.000000</td>\n",
              "      <td>412.750000</td>\n",
              "      <td>0.002674</td>\n",
              "      <td>0.000000</td>\n",
              "    </tr>\n",
              "    <tr>\n",
              "      <th>25%</th>\n",
              "      <td>19.700000</td>\n",
              "      <td>20.200000</td>\n",
              "      <td>0.000000</td>\n",
              "      <td>439.000000</td>\n",
              "      <td>0.003078</td>\n",
              "      <td>0.000000</td>\n",
              "    </tr>\n",
              "    <tr>\n",
              "      <th>50%</th>\n",
              "      <td>20.390000</td>\n",
              "      <td>26.222500</td>\n",
              "      <td>0.000000</td>\n",
              "      <td>453.500000</td>\n",
              "      <td>0.003801</td>\n",
              "      <td>0.000000</td>\n",
              "    </tr>\n",
              "    <tr>\n",
              "      <th>75%</th>\n",
              "      <td>21.390000</td>\n",
              "      <td>30.533333</td>\n",
              "      <td>256.375000</td>\n",
              "      <td>638.833333</td>\n",
              "      <td>0.004352</td>\n",
              "      <td>0.000000</td>\n",
              "    </tr>\n",
              "    <tr>\n",
              "      <th>max</th>\n",
              "      <td>23.180000</td>\n",
              "      <td>39.117500</td>\n",
              "      <td>1546.333333</td>\n",
              "      <td>2028.500000</td>\n",
              "      <td>0.006476</td>\n",
              "      <td>1.000000</td>\n",
              "    </tr>\n",
              "  </tbody>\n",
              "</table>\n",
              "</div>"
            ],
            "text/plain": [
              "       Temperature     Humidity  ...  HumidityRatio    Occupancy\n",
              "count  8143.000000  8143.000000  ...    8143.000000  8143.000000\n",
              "mean     20.619084    25.731507  ...       0.003863     0.212330\n",
              "std       1.016916     5.531211  ...       0.000852     0.408982\n",
              "min      19.000000    16.745000  ...       0.002674     0.000000\n",
              "25%      19.700000    20.200000  ...       0.003078     0.000000\n",
              "50%      20.390000    26.222500  ...       0.003801     0.000000\n",
              "75%      21.390000    30.533333  ...       0.004352     0.000000\n",
              "max      23.180000    39.117500  ...       0.006476     1.000000\n",
              "\n",
              "[8 rows x 6 columns]"
            ]
          },
          "metadata": {
            "tags": []
          },
          "execution_count": 19
        }
      ]
    },
    {
      "cell_type": "markdown",
      "metadata": {
        "id": "emIOqaWy0OEg"
      },
      "source": [
        "# **Box Plot**"
      ]
    },
    {
      "cell_type": "markdown",
      "metadata": {
        "id": "wv8SUkzE5x8e"
      },
      "source": [
        "Temperature attribute."
      ]
    },
    {
      "cell_type": "code",
      "metadata": {
        "colab": {
          "base_uri": "https://localhost:8080/",
          "height": 350
        },
        "id": "sCa4xoQg5pvt",
        "outputId": "1d89270d-56f3-4136-f6a1-bfb74ab75175"
      },
      "source": [
        "sns.boxplot(training_set['Temperature'])"
      ],
      "execution_count": null,
      "outputs": [
        {
          "output_type": "stream",
          "text": [
            "/usr/local/lib/python3.6/dist-packages/seaborn/_decorators.py:43: FutureWarning: Pass the following variable as a keyword arg: x. From version 0.12, the only valid positional argument will be `data`, and passing other arguments without an explicit keyword will result in an error or misinterpretation.\n",
            "  FutureWarning\n"
          ],
          "name": "stderr"
        },
        {
          "output_type": "execute_result",
          "data": {
            "text/plain": [
              "<matplotlib.axes._subplots.AxesSubplot at 0x7f38ef666978>"
            ]
          },
          "metadata": {
            "tags": []
          },
          "execution_count": 20
        },
        {
          "output_type": "display_data",
          "data": {
            "image/png": "[encoded data removed]",
            "text/plain": [
              "<Figure size 432x288 with 1 Axes>"
            ]
          },
          "metadata": {
            "tags": [],
            "needs_background": "light"
          }
        }
      ]
    },
    {
      "cell_type": "markdown",
      "metadata": {
        "id": "4lzG2XIz7aQk"
      },
      "source": [
        "From graph we can see there is no outlier in Temperature."
      ]
    },
    {
      "cell_type": "code",
      "metadata": {
        "colab": {
          "base_uri": "https://localhost:8080/",
          "height": 350
        },
        "id": "atWixzCK6B0s",
        "outputId": "c5124d2d-8f35-49dc-d7a0-9521521320ec"
      },
      "source": [
        "sns.boxplot(training_set['Humidity'])"
      ],
      "execution_count": null,
      "outputs": [
        {
          "output_type": "stream",
          "text": [
            "/usr/local/lib/python3.6/dist-packages/seaborn/_decorators.py:43: FutureWarning: Pass the following variable as a keyword arg: x. From version 0.12, the only valid positional argument will be `data`, and passing other arguments without an explicit keyword will result in an error or misinterpretation.\n",
            "  FutureWarning\n"
          ],
          "name": "stderr"
        },
        {
          "output_type": "execute_result",
          "data": {
            "text/plain": [
              "<matplotlib.axes._subplots.AxesSubplot at 0x7f38ef5a8630>"
            ]
          },
          "metadata": {
            "tags": []
          },
          "execution_count": 21
        },
        {
          "output_type": "display_data",
          "data": {
            "image/png": "[encoded data removed]",
            "text/plain": [
              "<Figure size 432x288 with 1 Axes>"
            ]
          },
          "metadata": {
            "tags": [],
            "needs_background": "light"
          }
        }
      ]
    },
    {
      "cell_type": "markdown",
      "metadata": {
        "id": "F-RyhaqB7-xa"
      },
      "source": [
        "From graph we can see there is no outlier in Humidity."
      ]
    },
    {
      "cell_type": "code",
      "metadata": {
        "colab": {
          "base_uri": "https://localhost:8080/",
          "height": 350
        },
        "id": "W9Zl-k846JFH",
        "outputId": "7638dfb6-b525-494b-8f3e-4d891c84621d"
      },
      "source": [
        "sns.boxplot(training_set['Light'])"
      ],
      "execution_count": null,
      "outputs": [
        {
          "output_type": "stream",
          "text": [
            "/usr/local/lib/python3.6/dist-packages/seaborn/_decorators.py:43: FutureWarning: Pass the following variable as a keyword arg: x. From version 0.12, the only valid positional argument will be `data`, and passing other arguments without an explicit keyword will result in an error or misinterpretation.\n",
            "  FutureWarning\n"
          ],
          "name": "stderr"
        },
        {
          "output_type": "execute_result",
          "data": {
            "text/plain": [
              "<matplotlib.axes._subplots.AxesSubplot at 0x7f38ef0c3710>"
            ]
          },
          "metadata": {
            "tags": []
          },
          "execution_count": 22
        },
        {
          "output_type": "display_data",
          "data": {
            "image/png": "[encoded data removed]",
            "text/plain": [
              "<Figure size 432x288 with 1 Axes>"
            ]
          },
          "metadata": {
            "tags": [],
            "needs_background": "light"
          }
        }
      ]
    },
    {
      "cell_type": "markdown",
      "metadata": {
        "id": "c3FlHOYM8xGu"
      },
      "source": [
        "From above graph we can see there are outliers\n",
        "So outliers are removed.\n",
        "\n",
        "\n",
        "\n",
        "\n",
        "\n"
      ]
    },
    {
      "cell_type": "code",
      "metadata": {
        "colab": {
          "base_uri": "https://localhost:8080/"
        },
        "id": "0T_oYabPAMyv",
        "outputId": "9466d7fd-9f85-4a01-e91c-cac9cce95ada"
      },
      "source": [
        "# Finding the upper whisker limit for 'Light' attribute\n",
        "Q3 = training_set.Light.quantile(.75) # 75th percentile\n",
        "Q1 = training_set.Light.quantile(.25) # 25th percentile\n",
        "IQR = Q3 - Q1\n",
        "UL = Q3 + 1.5*IQR\n",
        "print(\"Upper whisker limit:\",UL)\n",
        "\n"
      ],
      "execution_count": null,
      "outputs": [
        {
          "output_type": "stream",
          "text": [
            "Upper whisker limit: 640.9375\n"
          ],
          "name": "stdout"
        }
      ]
    },
    {
      "cell_type": "code",
      "metadata": {
        "colab": {
          "base_uri": "https://localhost:8080/"
        },
        "id": "37CV33jIBO3w",
        "outputId": "e92642e8-fe6e-4f2a-94fe-93a805a07e56"
      },
      "source": [
        "training_set.shape"
      ],
      "execution_count": null,
      "outputs": [
        {
          "output_type": "execute_result",
          "data": {
            "text/plain": [
              "(8143, 7)"
            ]
          },
          "metadata": {
            "tags": []
          },
          "execution_count": 24
        }
      ]
    },
    {
      "cell_type": "code",
      "metadata": {
        "id": "rP536hiv-0fd"
      },
      "source": [
        "training_set.drop(training_set[training_set['Light'] > UL].index, inplace = True)"
      ],
      "execution_count": null,
      "outputs": []
    },
    {
      "cell_type": "code",
      "metadata": {
        "colab": {
          "base_uri": "https://localhost:8080/"
        },
        "id": "KcHCGIteDAf-",
        "outputId": "90a63bb2-bcf0-48b3-d616-80bdd48ca94f"
      },
      "source": [
        "training_set.shape"
      ],
      "execution_count": null,
      "outputs": [
        {
          "output_type": "execute_result",
          "data": {
            "text/plain": [
              "(8128, 7)"
            ]
          },
          "metadata": {
            "tags": []
          },
          "execution_count": 26
        }
      ]
    },
    {
      "cell_type": "code",
      "metadata": {
        "colab": {
          "base_uri": "https://localhost:8080/",
          "height": 350
        },
        "id": "-0RS__U76KZo",
        "outputId": "5481117f-5cb4-49e3-bac1-c35d1c143cd0"
      },
      "source": [
        "sns.boxplot(training_set['CO2'])"
      ],
      "execution_count": null,
      "outputs": [
        {
          "output_type": "stream",
          "text": [
            "/usr/local/lib/python3.6/dist-packages/seaborn/_decorators.py:43: FutureWarning: Pass the following variable as a keyword arg: x. From version 0.12, the only valid positional argument will be `data`, and passing other arguments without an explicit keyword will result in an error or misinterpretation.\n",
            "  FutureWarning\n"
          ],
          "name": "stderr"
        },
        {
          "output_type": "execute_result",
          "data": {
            "text/plain": [
              "<matplotlib.axes._subplots.AxesSubplot at 0x7f38ef5a8438>"
            ]
          },
          "metadata": {
            "tags": []
          },
          "execution_count": 27
        },
        {
          "output_type": "display_data",
          "data": {
            "image/png": "[encoded data removed]",
            "text/plain": [
              "<Figure size 432x288 with 1 Axes>"
            ]
          },
          "metadata": {
            "tags": [],
            "needs_background": "light"
          }
        }
      ]
    },
    {
      "cell_type": "markdown",
      "metadata": {
        "id": "RUcZXzguEjYh"
      },
      "source": [
        "From above graph we can see there are outliers\n",
        "So outliers will be removed.\n",
        "\n",
        "\n",
        "\n",
        "\n",
        "\n"
      ]
    },
    {
      "cell_type": "code",
      "metadata": {
        "colab": {
          "base_uri": "https://localhost:8080/"
        },
        "id": "pgMLD4SCF1NT",
        "outputId": "0cff7f7b-9e37-407c-9477-dba72a3e912b"
      },
      "source": [
        "# Finding the upper whisker limit for 'CO2' attribute\n",
        "Q3 = training_set.CO2.quantile(.75) # 75th percentile\n",
        "Q1 = training_set.CO2.quantile(.25) # 25th percentile\n",
        "IQR = Q3 - Q1\n",
        "UL = Q3 + 1.5*IQR\n",
        "print(\"Upper whisker limit:\",UL)\n",
        "\n"
      ],
      "execution_count": null,
      "outputs": [
        {
          "output_type": "stream",
          "text": [
            "Upper whisker limit: 932.90625\n"
          ],
          "name": "stdout"
        }
      ]
    },
    {
      "cell_type": "code",
      "metadata": {
        "colab": {
          "base_uri": "https://localhost:8080/"
        },
        "id": "-q-RNAyuFag6",
        "outputId": "f3cd2c06-113c-4553-9791-2483788b3f9f"
      },
      "source": [
        "training_set.shape"
      ],
      "execution_count": null,
      "outputs": [
        {
          "output_type": "execute_result",
          "data": {
            "text/plain": [
              "(8128, 7)"
            ]
          },
          "metadata": {
            "tags": []
          },
          "execution_count": 29
        }
      ]
    },
    {
      "cell_type": "code",
      "metadata": {
        "id": "SA2KanKiFduu"
      },
      "source": [
        "training_set.drop(training_set[training_set['CO2'] > UL].index, inplace = True)"
      ],
      "execution_count": null,
      "outputs": []
    },
    {
      "cell_type": "code",
      "metadata": {
        "colab": {
          "base_uri": "https://localhost:8080/"
        },
        "id": "UtaPvySIFeEf",
        "outputId": "b5846182-e72f-433d-e86f-df68b45896b9"
      },
      "source": [
        "training_set.shape"
      ],
      "execution_count": null,
      "outputs": [
        {
          "output_type": "execute_result",
          "data": {
            "text/plain": [
              "(7063, 7)"
            ]
          },
          "metadata": {
            "tags": []
          },
          "execution_count": 31
        }
      ]
    },
    {
      "cell_type": "code",
      "metadata": {
        "colab": {
          "base_uri": "https://localhost:8080/",
          "height": 350
        },
        "id": "lxl1agsn6eXc",
        "outputId": "8b52b538-6482-43ac-a7ea-251fdde2a710"
      },
      "source": [
        "sns.boxplot(training_set['HumidityRatio'])"
      ],
      "execution_count": null,
      "outputs": [
        {
          "output_type": "stream",
          "text": [
            "/usr/local/lib/python3.6/dist-packages/seaborn/_decorators.py:43: FutureWarning: Pass the following variable as a keyword arg: x. From version 0.12, the only valid positional argument will be `data`, and passing other arguments without an explicit keyword will result in an error or misinterpretation.\n",
            "  FutureWarning\n"
          ],
          "name": "stderr"
        },
        {
          "output_type": "execute_result",
          "data": {
            "text/plain": [
              "<matplotlib.axes._subplots.AxesSubplot at 0x7f38edd72198>"
            ]
          },
          "metadata": {
            "tags": []
          },
          "execution_count": 32
        },
        {
          "output_type": "display_data",
          "data": {
            "image/png": "[encoded data removed]",
            "text/plain": [
              "<Figure size 432x288 with 1 Axes>"
            ]
          },
          "metadata": {
            "tags": [],
            "needs_background": "light"
          }
        }
      ]
    },
    {
      "cell_type": "markdown",
      "metadata": {
        "id": "JvOCVgVmHL-v"
      },
      "source": [
        "From graph we can see there is no outlier in HumidityRatio.\n",
        "\n",
        "As outliers has been removed..so resetting of index is done."
      ]
    },
    {
      "cell_type": "code",
      "metadata": {
        "id": "nBtNJmkHJjbT"
      },
      "source": [
        "training_set.index = np.arange(1,len(training_set)+1)"
      ],
      "execution_count": null,
      "outputs": []
    },
    {
      "cell_type": "markdown",
      "metadata": {
        "id": "sp1jQSQjhNTS"
      },
      "source": [
        "Check whether any two attributes are dependent and remove if it is required."
      ]
    },
    {
      "cell_type": "code",
      "metadata": {
        "id": "RNuiwH2_hNTS"
      },
      "source": [
        "# Is there any need to remove any attribute(column)(humidity and humidity ratio using corelation)\n",
        "#corelation\n",
        "# other graph\n",
        "# occupancy vs every date\n",
        "# %inline"
      ],
      "execution_count": null,
      "outputs": []
    },
    {
      "cell_type": "markdown",
      "metadata": {
        "id": "jyw0PQ3-hNTS"
      },
      "source": [
        "# Visualising data via Graphs"
      ]
    },
    {
      "cell_type": "code",
      "metadata": {
        "id": "veoYQ-5uhNTT"
      },
      "source": [
        "d1 = pd.to_datetime(data_set1['date'])\n",
        "d2 = pd.to_datetime(data_set2['date'])\n",
        "d3 = pd.to_datetime(training_set['date'])\n"
      ],
      "execution_count": null,
      "outputs": []
    },
    {
      "cell_type": "code",
      "metadata": {
        "colab": {
          "base_uri": "https://localhost:8080/",
          "height": 312
        },
        "id": "LiLML5AUISwX",
        "outputId": "9e5b1df3-3b7c-47e6-93eb-a4b42da9b251"
      },
      "source": [
        "x = d3.tolist()\n",
        "y = training_set['Temperature'].tolist()\n",
        "plt.plot(x,y)\n",
        "plt.title(\"Temperature vs Date\")\n",
        "plt.xlabel(\"Date\")\n",
        "plt.ylabel(\"Temperature\")\n",
        "plt.show"
      ],
      "execution_count": null,
      "outputs": [
        {
          "output_type": "execute_result",
          "data": {
            "text/plain": [
              "<function matplotlib.pyplot.show>"
            ]
          },
          "metadata": {
            "tags": []
          },
          "execution_count": 36
        },
        {
          "output_type": "display_data",
          "data": {
            "image/png": "[encoded data removed]",
            "text/plain": [
              "<Figure size 432x288 with 1 Axes>"
            ]
          },
          "metadata": {
            "tags": [],
            "needs_background": "light"
          }
        }
      ]
    },
    {
      "cell_type": "code",
      "metadata": {
        "colab": {
          "base_uri": "https://localhost:8080/",
          "height": 312
        },
        "id": "2nA3wXW0hNTS",
        "outputId": "7e100c35-9ea8-45e8-f6ef-160a3a1a52c4"
      },
      "source": [
        "x = d3.tolist()\n",
        "y = training_set['Humidity'].tolist()\n",
        "plt.plot(x,y)\n",
        "plt.title(\"Humidity vs Date\")\n",
        "plt.xlabel(\"Date\")\n",
        "plt.ylabel(\"Humidity\")\n",
        "plt.show"
      ],
      "execution_count": null,
      "outputs": [
        {
          "output_type": "execute_result",
          "data": {
            "text/plain": [
              "<function matplotlib.pyplot.show>"
            ]
          },
          "metadata": {
            "tags": []
          },
          "execution_count": 37
        },
        {
          "output_type": "display_data",
          "data": {
            "image/png": "[encoded data removed]",
            "text/plain": [
              "<Figure size 432x288 with 1 Axes>"
            ]
          },
          "metadata": {
            "tags": [],
            "needs_background": "light"
          }
        }
      ]
    },
    {
      "cell_type": "code",
      "metadata": {
        "colab": {
          "base_uri": "https://localhost:8080/",
          "height": 312
        },
        "id": "hwFP2WNJnM-z",
        "outputId": "92260d59-f905-4db0-c500-7fe9359eb99b"
      },
      "source": [
        "x = d3.tolist()\n",
        "y = training_set['Light'].tolist()\n",
        "plt.plot(x,y)\n",
        "plt.title(\"Light vs Date\")\n",
        "plt.xlabel(\"Date\")\n",
        "plt.ylabel(\"Light\")\n",
        "plt.show"
      ],
      "execution_count": null,
      "outputs": [
        {
          "output_type": "execute_result",
          "data": {
            "text/plain": [
              "<function matplotlib.pyplot.show>"
            ]
          },
          "metadata": {
            "tags": []
          },
          "execution_count": 38
        },
        {
          "output_type": "display_data",
          "data": {
            "image/png": "[encoded data removed]",
            "text/plain": [
              "<Figure size 432x288 with 1 Axes>"
            ]
          },
          "metadata": {
            "tags": [],
            "needs_background": "light"
          }
        }
      ]
    },
    {
      "cell_type": "code",
      "metadata": {
        "colab": {
          "base_uri": "https://localhost:8080/",
          "height": 312
        },
        "id": "9qOlzCoenO2m",
        "outputId": "f66b85b5-8320-467d-b5a1-9a941e848133"
      },
      "source": [
        "x = d3.tolist()\n",
        "y = training_set['CO2'].tolist()\n",
        "plt.plot(x,y)\n",
        "plt.title(\"CO2 vs Date\")\n",
        "plt.xlabel(\"Date\")\n",
        "plt.ylabel(\"CO2\")\n",
        "plt.show"
      ],
      "execution_count": null,
      "outputs": [
        {
          "output_type": "execute_result",
          "data": {
            "text/plain": [
              "<function matplotlib.pyplot.show>"
            ]
          },
          "metadata": {
            "tags": []
          },
          "execution_count": 39
        },
        {
          "output_type": "display_data",
          "data": {
            "image/png": "[encoded data removed]",
            "text/plain": [
              "<Figure size 432x288 with 1 Axes>"
            ]
          },
          "metadata": {
            "tags": [],
            "needs_background": "light"
          }
        }
      ]
    },
    {
      "cell_type": "code",
      "metadata": {
        "colab": {
          "base_uri": "https://localhost:8080/",
          "height": 312
        },
        "id": "rIthGUUoqYiF",
        "outputId": "c3f2da69-a515-45cb-9a3b-a0babc485d65"
      },
      "source": [
        "x = d3.tolist()\n",
        "y = training_set['HumidityRatio'].tolist()\n",
        "plt.plot(x,y)\n",
        "plt.title(\"HumidityRatio vs Date\")\n",
        "plt.xlabel(\"Date\")\n",
        "plt.ylabel(\"HumidityRatio\")\n",
        "plt.show"
      ],
      "execution_count": null,
      "outputs": [
        {
          "output_type": "execute_result",
          "data": {
            "text/plain": [
              "<function matplotlib.pyplot.show>"
            ]
          },
          "metadata": {
            "tags": []
          },
          "execution_count": 40
        },
        {
          "output_type": "display_data",
          "data": {
            "image/png": "[encoded data removed]",
            "text/plain": [
              "<Figure size 432x288 with 1 Axes>"
            ]
          },
          "metadata": {
            "tags": [],
            "needs_background": "light"
          }
        }
      ]
    },
    {
      "cell_type": "code",
      "metadata": {
        "colab": {
          "base_uri": "https://localhost:8080/",
          "height": 1000
        },
        "id": "YiVDWpDYqDY7",
        "outputId": "ca6ac132-63c2-4300-d0bf-bbc691925f25"
      },
      "source": [
        "a = int(training_set['date'].tolist()[0][8:10])\n",
        "\n",
        "while True:\n",
        "  x = []\n",
        "  y = []\n",
        "  counter = 0\n",
        "  for i in range(len(training_set)):\n",
        "    if(int(training_set.iloc[i]['date'][8:10]) == a):\n",
        "        x.append(int(training_set.iloc[i]['Occupancy']))\n",
        "        y.append(pd.to_datetime(training_set.iloc[i]['date']))\n",
        "        counter = 1\n",
        "  if(counter == 0):\n",
        "     break    \n",
        "  plt.plot(y,x)\n",
        "  plt.title(f\"Occupancy on {a}th feb\")\n",
        "  plt.xlabel(\"Date\")\n",
        "  plt.ylabel(\"Occupancy\")\n",
        "  plt.show()\n",
        "  a+=1\n",
        "  \n",
        "\n",
        "\n",
        "\n",
        "    "
      ],
      "execution_count": null,
      "outputs": [
        {
          "output_type": "display_data",
          "data": {
            "image/png": "[encoded data removed]",
            "text/plain": [
              "<Figure size 432x288 with 1 Axes>"
            ]
          },
          "metadata": {
            "tags": [],
            "needs_background": "light"
          }
        },
        {
          "output_type": "display_data",
          "data": {
            "image/png": "[encoded data removed]",
            "text/plain": [
              "<Figure size 432x288 with 1 Axes>"
            ]
          },
          "metadata": {
            "tags": [],
            "needs_background": "light"
          }
        },
        {
          "output_type": "display_data",
          "data": {
            "image/png": "[encoded data removed]",
            "text/plain": [
              "<Figure size 432x288 with 1 Axes>"
            ]
          },
          "metadata": {
            "tags": [],
            "needs_background": "light"
          }
        },
        {
          "output_type": "display_data",
          "data": {
            "image/png": "[encoded data removed]",
            "text/plain": [
              "<Figure size 432x288 with 1 Axes>"
            ]
          },
          "metadata": {
            "tags": [],
            "needs_background": "light"
          }
        },
        {
          "output_type": "display_data",
          "data": {
            "image/png": "[encoded data removed]",
            "text/plain": [
              "<Figure size 432x288 with 1 Axes>"
            ]
          },
          "metadata": {
            "tags": [],
            "needs_background": "light"
          }
        },
        {
          "output_type": "display_data",
          "data": {
            "image/png": "[encoded data removed]",
            "text/plain": [
              "<Figure size 432x288 with 1 Axes>"
            ]
          },
          "metadata": {
            "tags": [],
            "needs_background": "light"
          }
        },
        {
          "output_type": "display_data",
          "data": {
            "image/png": "[encoded data removed]",
            "text/plain": [
              "<Figure size 432x288 with 1 Axes>"
            ]
          },
          "metadata": {
            "tags": [],
            "needs_background": "light"
          }
        }
      ]
    },
    {
      "cell_type": "markdown",
      "metadata": {
        "id": "t38N5PdChNTT"
      },
      "source": [
        "Applying Different Classifier Algorithm.\n",
        "\n",
        "**Logistic Regression**"
      ]
    },
    {
      "cell_type": "code",
      "metadata": {
        "id": "a81lEdDQTH4p"
      },
      "source": [
        "v1 = data_set1.values\n",
        "X1,y1 = v1[:, 1:-1], v1[:, -1]\n",
        "y1=y1.astype('int')"
      ],
      "execution_count": null,
      "outputs": []
    },
    {
      "cell_type": "code",
      "metadata": {
        "colab": {
          "base_uri": "https://localhost:8080/"
        },
        "id": "AMJe2Fv4VMsY",
        "outputId": "3245d1a3-db56-4e6b-908f-28c9bf34332f"
      },
      "source": [
        "from sklearn.metrics import accuracy_score,confusion_matrix\n",
        "from sklearn.model_selection import train_test_split\n",
        "from sklearn.metrics import accuracy_score\n",
        "from sklearn.linear_model import LogisticRegression\n",
        "\n",
        "\n",
        "values = training_set.values\n",
        "# split data into inputs and outputs\n",
        "X, y = values[:, 1:-1], values[:, -1]\n",
        "y=y.astype('int')\n",
        "model = LogisticRegression()\n",
        "model.fit(X,y)\n",
        "res = model.predict(X1)\n",
        "conf_matrix = confusion_matrix(y1, res)\n",
        "score = accuracy_score(y1,res)\n",
        "print(score*100)\n",
        "conf_matrix"
      ],
      "execution_count": null,
      "outputs": [
        {
          "output_type": "stream",
          "text": [
            "98.88228055783429\n"
          ],
          "name": "stdout"
        },
        {
          "output_type": "execute_result",
          "data": {
            "text/plain": [
              "array([[7623,   80],\n",
              "       [  29, 2020]])"
            ]
          },
          "metadata": {
            "tags": []
          },
          "execution_count": 43
        }
      ]
    },
    {
      "cell_type": "markdown",
      "metadata": {
        "id": "FUMk7VS-RmQZ"
      },
      "source": [
        "**Naive Bayes Algorithm**"
      ]
    },
    {
      "cell_type": "code",
      "metadata": {
        "colab": {
          "base_uri": "https://localhost:8080/"
        },
        "id": "wmuvCFULZ-Wt",
        "outputId": "08ef5f1d-86fe-4a1f-885e-268f43acf54c"
      },
      "source": [
        "from sklearn.naive_bayes import GaussianNB\n",
        "nb = GaussianNB()\n",
        "nb.fit(X,y)\n",
        "res = nb.predict(X1)\n",
        "score = accuracy_score(y1,res)\n",
        "conf_matrix = confusion_matrix(y1, res)\n",
        "print(score*100)\n",
        "conf_matrix"
      ],
      "execution_count": null,
      "outputs": [
        {
          "output_type": "stream",
          "text": [
            "90.71985233798195\n"
          ],
          "name": "stdout"
        },
        {
          "output_type": "execute_result",
          "data": {
            "text/plain": [
              "array([[6807,  896],\n",
              "       [   9, 2040]])"
            ]
          },
          "metadata": {
            "tags": []
          },
          "execution_count": 44
        }
      ]
    },
    {
      "cell_type": "markdown",
      "metadata": {
        "id": "1how3nskecjS"
      },
      "source": [
        "**Decision Tree**"
      ]
    },
    {
      "cell_type": "code",
      "metadata": {
        "colab": {
          "base_uri": "https://localhost:8080/"
        },
        "id": "5RdME5sOmibq",
        "outputId": "0506c3df-270c-4bbb-a20b-f3f92c550899"
      },
      "source": [
        "from sklearn.tree import DecisionTreeClassifier\n",
        "tree = DecisionTreeClassifier()\n",
        "tree.fit(X,y)\n",
        "res = tree.predict(X1)\n",
        "conf_matrix = confusion_matrix(y1,res)\n",
        "tree_acc_score = accuracy_score(y1,res)\n",
        "print(conf_matrix)\n",
        "print(tree_acc_score*100)"
      ],
      "execution_count": null,
      "outputs": [
        {
          "output_type": "stream",
          "text": [
            "[[7560  143]\n",
            " [ 272 1777]]\n",
            "95.74446267432322\n"
          ],
          "name": "stdout"
        }
      ]
    },
    {
      "cell_type": "markdown",
      "metadata": {
        "id": "uReWNu1Mkr0M"
      },
      "source": [
        "**SVM**"
      ]
    },
    {
      "cell_type": "code",
      "metadata": {
        "colab": {
          "base_uri": "https://localhost:8080/"
        },
        "id": "hzxYnIBxlAr2",
        "outputId": "8d31e75c-1b1c-47bb-af98-8fefbca4f15b"
      },
      "source": [
        "from sklearn.svm import SVC\n",
        "lin_svc = SVC()\n",
        "lin_svc.fit(X,y)\n",
        "res=lin_svc.predict(X1)\n",
        "conf_matrix = confusion_matrix(y1, res)\n",
        "lin_svc_acc_score = accuracy_score(y1,res)\n",
        "print(conf_matrix)\n",
        "print(lin_svc_acc_score*100)"
      ],
      "execution_count": null,
      "outputs": [
        {
          "output_type": "stream",
          "text": [
            "[[7507  196]\n",
            " [  96 1953]]\n",
            "97.00574241181296\n"
          ],
          "name": "stdout"
        }
      ]
    },
    {
      "cell_type": "markdown",
      "metadata": {
        "id": "FPM0j5Aflnob"
      },
      "source": [
        "**Random Forest**"
      ]
    },
    {
      "cell_type": "code",
      "metadata": {
        "colab": {
          "base_uri": "https://localhost:8080/"
        },
        "id": "hPdFHEZOoN4V",
        "outputId": "442ff2bc-9836-4b7a-b7d6-e4991a053857"
      },
      "source": [
        "from sklearn.ensemble import RandomForestClassifier\n",
        "rf = RandomForestClassifier()\n",
        "rf.fit(X,y)\n",
        "res=rf.predict(X1)\n",
        "conf_matrix = confusion_matrix(y1,res)\n",
        "acc_score = accuracy_score(y1, res)\n",
        "print(conf_matrix)\n",
        "print(acc_score*100)"
      ],
      "execution_count": null,
      "outputs": [
        {
          "output_type": "stream",
          "text": [
            "[[7463  240]\n",
            " [  78 1971]]\n",
            "96.73913043478261\n"
          ],
          "name": "stdout"
        }
      ]
    },
    {
      "cell_type": "code",
      "metadata": {
        "id": "WtbCNrIZolRg"
      },
      "source": [
        ""
      ],
      "execution_count": null,
      "outputs": []
    }
  ]
}